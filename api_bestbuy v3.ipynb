{
 "cells": [
  {
   "cell_type": "code",
   "execution_count": 1,
   "metadata": {},
   "outputs": [],
   "source": [
    "import os\n",
    "import json\n",
    "import requests\n",
    "import pandas as pd\n",
    "\n",
    "from sqlalchemy import create_engine\n",
    "from time import perf_counter, sleep\n",
    "from datetime import datetime, timedelta\n",
    "\n",
    "import config_bestbuy"
   ]
  },
  {
   "cell_type": "code",
   "execution_count": 10,
   "metadata": {},
   "outputs": [],
   "source": [
    "def initialize(folder_index=0):\n",
    "\n",
    "    folders = ['products', 'categories', 'stores', 'products_update']\n",
    "    datename = datetime.utcnow().strftime('%Y%m%d')\n",
    "    path = config_bestbuy.path\n",
    "    foldername = f'best_buy_{datename}\\\\{folders[folder_index]}'\n",
    "    folderpath = os.path.join(path, foldername)\n",
    "\n",
    "    if not os.path.exists(folderpath):\n",
    "        os.makedirs(folderpath)\n",
    "\n",
    "    db = os.path.join(config_bestbuy.path, 'bestbuy.db')\n",
    "    conn_string = f'sqlite:///{db}'\n",
    "    engine = create_engine(conn_string)\n",
    "\n",
    "    with engine.connect() as cnx:\n",
    "        try:\n",
    "            sel_stmt = \"SELECT * FROM products LIMIT 0\"\n",
    "            df_db = pd.read_sql(sql=sel_stmt, con=cnx)\n",
    "            db_cols = df_db.columns.tolist()\n",
    "\n",
    "            last_update_stmt = 'SELECT MAX(itemUpdateDate) FROM products'\n",
    "            df_itemUpdateDate = pd.read_sql(sql=last_update_stmt, con=cnx)\n",
    "            last_update_date = df_itemUpdateDate.iloc[0, 0]\n",
    "        except Exception as e:\n",
    "            db_cols = []\n",
    "            \n",
    "    return folderpath, datename, engine, db_cols, last_update_date\n",
    "\n",
    "\n",
    "def api_bestbuy(cursorMark=\"*\", api_index=0, page_size=100, last_update_date=None):\n",
    "    key = config_bestbuy.key_bestbuy\n",
    "    apis = ['products', 'categories', 'stores', f'products(itemUpdateDate>{last_update_date}&active=*)']\n",
    "    url = f\"https://api.bestbuy.com/v1/{apis[api_index]}\"\n",
    "    payload = {\n",
    "        'apiKey': key, \n",
    "        'pageSize': page_size, \n",
    "        'format': 'json', \n",
    "        'show': 'all',\n",
    "        'cursorMark': cursorMark\n",
    "        }\n",
    "    r = requests.get(f'{url}', params=payload)\n",
    "\n",
    "    return r\n",
    "\n",
    "\n",
    "def insert_db(r, engine, db_cols):\n",
    "\n",
    "    with engine.connect() as cnx:\n",
    "        cols = ['nextCursorMark', 'total', 'totalPages', 'queryTime', 'totalTime', 'canonicalUrl', 'sku', 'name', 'type', 'startDate', 'new', 'activeUpdateDate', 'active', 'regularPrice', 'salePrice', 'clearance', 'onSale', 'categoryPath', 'customerReviewCount', 'customerReviewAverage', 'priceUpdateDate', 'itemUpdateDate', 'class', 'classId', 'subclass', 'subclassId', 'department', 'departmentId', 'images', 'image', 'color']\n",
    "        io = r.json()\n",
    "        df_meta = pd.DataFrame(io)\n",
    "        df_meta = df_meta.iloc[:, :-1]\n",
    "        df_products = pd.DataFrame(io['products'])\n",
    "        df = df_meta.merge(df_products, how='inner', left_index=True, right_index=True)\n",
    "        df = df.loc[:, cols]\n",
    "        df.insert(0, 'request_timestamp', datetime.utcnow())\n",
    "\n",
    "        for col in df.columns.tolist():\n",
    "            if df[col].dtype == 'object' or df[col].dtype == 'int64':\n",
    "                df[col] = df[col].astype('str')\n",
    "\n",
    "            datatype = df[col].dtype\n",
    "            if datatype == 'bool':\n",
    "                datatype = 'INTEGER'\n",
    "            if datatype == 'float64':\n",
    "                datatype = 'REAL'\n",
    "            elif datatype == 'datetime64[ns]':\n",
    "                datatype = 'NUMERIC'\n",
    "            else: # int64, object, TEXT\n",
    "                datatype = 'TEXT'\n",
    "            \n",
    "            if col not in db_cols:\n",
    "                alter_stmt = f\"\"\"\n",
    "                ALTER TABLE products\n",
    "                ADD {col} {datatype};\n",
    "                \"\"\"\n",
    "                try:\n",
    "                    cnx.execute(alter_stmt)\n",
    "\n",
    "                except Exception as e:\n",
    "                    print(f'error: {col} already exists')\n",
    "                \n",
    "                finally:\n",
    "                    db_cols.append(col)\n",
    "                \n",
    "        df.to_sql(name='products', con=cnx, if_exists='append', index=False)\n",
    "\n",
    "\n",
    "def main(api_index=0, page_size=100, db=False):\n",
    "\n",
    "    t0 = perf_counter()\n",
    "    folderpath, datename, engine, db_cols, last_update_date = initialize(folder_index=api_index)\n",
    "    nextcursorMark = \"*\"\n",
    "    pg = 0\n",
    "    pages = api_bestbuy(cursorMark=nextcursorMark, api_index=api_index, page_size=page_size, last_update_date=last_update_date).json()['totalPages']\n",
    "    print(f'{pages=}')\n",
    "    sleep(1)\n",
    "    t1 = perf_counter()\n",
    "\n",
    "    while True:\n",
    "        print(f'{pg=}', f'{nextcursorMark=}', f'{t1=}', f'{perf_counter()-t1=}', sep=' | ')\n",
    "        r = api_bestbuy(cursorMark=nextcursorMark, api_index=api_index, page_size=page_size, last_update_date=last_update_date)\n",
    "\n",
    "        if r.status_code == 200:\n",
    "            try:\n",
    "                if len(r.json()['products']) == 0:\n",
    "                    print(f\"fin: {(perf_counter()-t0)=}\")\n",
    "                    break      \n",
    "\n",
    "                nextcursorMark = r.json()['nextCursorMark']\n",
    "                pg += 1\n",
    "            \n",
    "            except (NameError, ValueError, KeyError) as e:\n",
    "                print(f'{e=}')\n",
    "                t1 = perf_counter()\n",
    "\n",
    "            else:\n",
    "                pass\n",
    "\n",
    "            finally:\n",
    "                pass\n",
    "            \n",
    "            filename = f'best_buy_{datename}_{pg:05}.json'\n",
    "            filepath = os.path.join(folderpath, filename)\n",
    "\n",
    "            with open(filepath, 'w') as f:\n",
    "                json.dump(r.json(), f, indent=4)\n",
    "\n",
    "            if db:\n",
    "                insert_db(r=r, engine=engine, db_cols=db_cols)\n",
    "\n",
    "        timer = perf_counter()-t1\n",
    "        if (pg)%5==0:\n",
    "            if timer<1:\n",
    "                sleep(1-timer)\n",
    "            t1 = perf_counter()\n",
    "    \n"
   ]
  },
  {
   "cell_type": "code",
   "execution_count": 11,
   "metadata": {},
   "outputs": [
    {
     "name": "stdout",
     "output_type": "stream",
     "text": [
      "pages=43\n",
      "pg=0 | nextcursorMark='*' | t1=351.887903 | perf_counter()-t1=2.340000003187015e-05\n",
      "pg=1 | nextcursorMark='AoIIP4AAADNwcm9kdWN0XzM1MDMwMjI1X3Vz' | t1=351.887903 | perf_counter()-t1=1.980381599999987\n",
      "pg=2 | nextcursorMark='AoIIP4AAADJwcm9kdWN0XzQ4ODE5MDFfdXM=' | t1=351.887903 | perf_counter()-t1=4.56571409999998\n",
      "pg=3 | nextcursorMark='AoIIP4AAADJwcm9kdWN0XzU3MTIxMTBfdXM=' | t1=351.887903 | perf_counter()-t1=6.974869300000023\n",
      "pg=4 | nextcursorMark='AoIIP4AAADJwcm9kdWN0XzU4MDI5MDNfdXM=' | t1=351.887903 | perf_counter()-t1=9.047557100000006\n",
      "pg=5 | nextcursorMark='AoIIP4AAADJwcm9kdWN0XzYwMjE0MjdfdXM=' | t1=363.5691262 | perf_counter()-t1=1.2199999957829277e-05\n",
      "pg=6 | nextcursorMark='AoIIP4AAADJwcm9kdWN0XzYyMzU0MDBfdXM=' | t1=363.5691262 | perf_counter()-t1=2.584062999999958\n",
      "pg=7 | nextcursorMark='AoIIP4AAADJwcm9kdWN0XzYyODc3MjlfdXM=' | t1=363.5691262 | perf_counter()-t1=5.041632399999969\n",
      "pg=8 | nextcursorMark='AoIIP4AAADJwcm9kdWN0XzYzMTc0NTNfdXM=' | t1=363.5691262 | perf_counter()-t1=7.432786599999986\n",
      "pg=9 | nextcursorMark='AoIIP4AAADJwcm9kdWN0XzYzMzMzNDlfdXM=' | t1=363.5691262 | perf_counter()-t1=10.207819599999993\n",
      "pg=10 | nextcursorMark='AoIIP4AAADJwcm9kdWN0XzYzNDY4MjVfdXM=' | t1=376.4602483 | perf_counter()-t1=1.7399999990175274e-05\n",
      "pg=11 | nextcursorMark='AoIIP4AAADJwcm9kdWN0XzYzNTM0MDNfdXM=' | t1=376.4602483 | perf_counter()-t1=2.123548200000016\n",
      "pg=12 | nextcursorMark='AoIIP4AAADJwcm9kdWN0XzYzNTk4MjBfdXM=' | t1=376.4602483 | perf_counter()-t1=4.223628200000007\n",
      "pg=13 | nextcursorMark='AoIIP4AAADJwcm9kdWN0XzYzNjc4NjJfdXM=' | t1=376.4602483 | perf_counter()-t1=6.652133800000001\n",
      "pg=14 | nextcursorMark='AoIIP4AAADJwcm9kdWN0XzYzNzU5ODVfdXM=' | t1=376.4602483 | perf_counter()-t1=8.817564699999991\n",
      "pg=15 | nextcursorMark='AoIIP4AAADJwcm9kdWN0XzYzODQxNDFfdXM=' | t1=387.6498744 | perf_counter()-t1=1.0700000018459832e-05\n",
      "pg=16 | nextcursorMark='AoIIP4AAADJwcm9kdWN0XzYzOTc4NTlfdXM=' | t1=387.6498744 | perf_counter()-t1=2.6456069000000184\n",
      "pg=17 | nextcursorMark='AoIIP4AAADJwcm9kdWN0XzY0MDM2NzRfdXM=' | t1=387.6498744 | perf_counter()-t1=5.052775199999985\n",
      "pg=18 | nextcursorMark='AoIIP4AAADJwcm9kdWN0XzY0MDk5ODJfdXM=' | t1=387.6498744 | perf_counter()-t1=7.661744400000032\n",
      "pg=19 | nextcursorMark='AoIIP4AAADJwcm9kdWN0XzY0MTQ2MzlfdXM=' | t1=387.6498744 | perf_counter()-t1=10.228273999999999\n",
      "pg=20 | nextcursorMark='AoIIP4AAADJwcm9kdWN0XzY0MTk2MjFfdXM=' | t1=400.0673938 | perf_counter()-t1=1.4000000021496817e-05\n",
      "pg=21 | nextcursorMark='AoIIP4AAADJwcm9kdWN0XzY0MjIwNzBfdXM=' | t1=400.0673938 | perf_counter()-t1=2.219560900000033\n",
      "pg=22 | nextcursorMark='AoIIP4AAADJwcm9kdWN0XzY0MjM5OTRfdXM=' | t1=400.0673938 | perf_counter()-t1=4.818792500000029\n",
      "pg=23 | nextcursorMark='AoIIP4AAADJwcm9kdWN0XzY0MjYyMDFfdXM=' | t1=400.0673938 | perf_counter()-t1=7.320059800000024\n",
      "pg=24 | nextcursorMark='AoIIP4AAADJwcm9kdWN0XzY0Mjg0NjBfdXM=' | t1=400.0673938 | perf_counter()-t1=9.693837200000019\n",
      "pg=25 | nextcursorMark='AoIIP4AAADJwcm9kdWN0XzY0MzYzOTZfdXM=' | t1=412.2561462 | perf_counter()-t1=1.770000000078653e-05\n",
      "pg=26 | nextcursorMark='AoIIP4AAADJwcm9kdWN0XzY0NDIwNjhfdXM=' | t1=412.2561462 | perf_counter()-t1=2.246820899999989\n",
      "pg=27 | nextcursorMark='AoIIP4AAADJwcm9kdWN0XzY0NDczNzNfdXM=' | t1=412.2561462 | perf_counter()-t1=4.999137200000007\n",
      "pg=28 | nextcursorMark='AoIIP4AAADJwcm9kdWN0XzY0NTA5MjBfdXM=' | t1=412.2561462 | perf_counter()-t1=7.788985300000036\n",
      "pg=29 | nextcursorMark='AoIIP4AAADJwcm9kdWN0XzY0NTMwMjRfdXM=' | t1=412.2561462 | perf_counter()-t1=11.015872000000002\n",
      "pg=30 | nextcursorMark='AoIIP4AAADJwcm9kdWN0XzY0NTUyMDJfdXM=' | t1=426.2314857 | perf_counter()-t1=1.2700000013410317e-05\n",
      "pg=31 | nextcursorMark='AoIIP4AAADJwcm9kdWN0XzY0NTg3MTZfdXM=' | t1=426.2314857 | perf_counter()-t1=2.9807036999999923\n",
      "pg=32 | nextcursorMark='AoIIP4AAADJwcm9kdWN0XzY0NjIwMThfdXM=' | t1=426.2314857 | perf_counter()-t1=5.687600900000007\n",
      "pg=33 | nextcursorMark='AoIIP4AAADJwcm9kdWN0XzY0NjI0OTlfdXM=' | t1=426.2314857 | perf_counter()-t1=7.845332699999972\n",
      "pg=34 | nextcursorMark='AoIIP4AAADJwcm9kdWN0XzY0NjQ2MDBfdXM=' | t1=426.2314857 | perf_counter()-t1=10.430202599999973\n",
      "pg=35 | nextcursorMark='AoIIP4AAADJwcm9kdWN0XzY0Njg5MDJfdXM=' | t1=439.3953117 | perf_counter()-t1=1.7000000013922545e-05\n",
      "pg=36 | nextcursorMark='AoIIP4AAADJwcm9kdWN0XzY0NzE1NjNfdXM=' | t1=439.3953117 | perf_counter()-t1=2.2479212000000075\n",
      "pg=37 | nextcursorMark='AoIIP4AAADJwcm9kdWN0XzY0NzQyNzRfdXM=' | t1=439.3953117 | perf_counter()-t1=4.606822300000033\n",
      "pg=38 | nextcursorMark='AoIIP4AAADJwcm9kdWN0XzY0NzYxNTFfdXM=' | t1=439.3953117 | perf_counter()-t1=6.89794900000004\n",
      "pg=39 | nextcursorMark='AoIIP4AAADJwcm9kdWN0XzY0Nzc3MjZfdXM=' | t1=439.3953117 | perf_counter()-t1=9.49388620000002\n",
      "pg=40 | nextcursorMark='AoIIP4AAADJwcm9kdWN0XzY0ODEzNjBfdXM=' | t1=451.3600272 | perf_counter()-t1=1.5099999984613532e-05\n",
      "pg=41 | nextcursorMark='AoIIP4AAADJwcm9kdWN0XzY0ODcxNTBfdXM=' | t1=451.3600272 | perf_counter()-t1=5.372909200000038\n",
      "pg=42 | nextcursorMark='AoIIP4AAADJwcm9kdWN0XzkzNTMwNTRfdXM=' | t1=451.3600272 | perf_counter()-t1=7.5758317000000375\n",
      "pg=43 | nextcursorMark='AoIIP4AAADJwcm9kdWN0Xzk5ODQ2NzNfdXM=' | t1=451.3600272 | perf_counter()-t1=9.123965400000031\n",
      "fin: (perf_counter()-t0)=112.83836049999996\n"
     ]
    }
   ],
   "source": [
    "if __name__ == '__main__':\n",
    "\n",
    "    # api_index = {0: 'products', 1: 'categories', 2: 'stores', 3: 'products(itemUpdateDate>today&active=*)'}\n",
    "    main(api_index=3, page_size=100, db=True)\n"
   ]
  },
  {
   "cell_type": "markdown",
   "metadata": {},
   "source": [
    "Tip: To query for updates or deltas since you last walked through the result set you can use the itemUpdateDate attribute. To ensure that your query results include changes to a product’s active/inactive status, add active=* to your query parameters. \n",
    "For example: .../v1/products(itemUpdateDate>2017-02-06T16:00:00&active=*)?format=json&pageSize=100&cursorMark=*&apiKey=YOUR_API_KEY\n",
    "For example: .../v1/products(itemUpdateDate>today&active=*)?format=json&pageSize=100&cursorMark=*&apiKey=YOUR_API_KEY\n",
    "\"https://api.bestbuy.com/v1/products(releaseDate>today)?format=json&show=sku,name,salePrice&apiKey=YourAPIKey\""
   ]
  },
  {
   "cell_type": "code",
   "execution_count": 79,
   "metadata": {},
   "outputs": [
    {
     "name": "stdout",
     "output_type": "stream",
     "text": [
      "C:\\Users\\Admin\\Downloads\\best_buy\\best_buy_20211123\n"
     ]
    }
   ],
   "source": [
    "bb_root = config_bestbuy.path\n",
    "bb_dir = 'best_buy_20211123'\n",
    "bb_path = os.path.join(bb_root, bb_dir)\n",
    "\n",
    "bb_filename = 'best_buy_20211123_00001 - Copy.json'\n",
    "bb_file_path = os.path.join(f'{bb_path}\\\\products', bb_filename)\n",
    "\n",
    "with open(bb_file_path, 'r') as f:\n",
    "    io = json.load(f)\n"
   ]
  },
  {
   "cell_type": "code",
   "execution_count": 7,
   "metadata": {},
   "outputs": [],
   "source": [
    "nextcursorMark = \"*\"\n",
    "api_index = 3\n",
    "page_size = 100\n",
    "days = 2\n",
    "\n",
    "r = api_bestbuy(cursorMark=nextcursorMark, api_index=api_index, page_size=page_size, days=days)\n",
    "# io = r.json()\n"
   ]
  },
  {
   "cell_type": "code",
   "execution_count": 9,
   "metadata": {},
   "outputs": [],
   "source": [
    "cols = ['nextCursorMark', 'total', 'totalPages', 'queryTime', 'totalTime', 'canonicalUrl', 'sku', 'name', 'type', 'startDate', 'new', 'activeUpdateDate', 'active', 'regularPrice', 'salePrice', 'clearance', 'onSale', 'categoryPath', 'customerReviewCount', 'customerReviewAverage', 'priceUpdateDate', 'itemUpdateDate', 'class', 'classId', 'subclass', 'subclassId', 'department', 'departmentId', 'images', 'image', 'color']\n",
    "io = r.json()\n",
    "df_meta = pd.DataFrame(io)\n",
    "df_meta = df_meta.iloc[:, :-1]\n",
    "df_products = pd.DataFrame(io['products'])\n",
    "df = df_meta.merge(df_products, how='inner', left_index=True, right_index=True)\n",
    "df = df.loc[:, cols]\n",
    "df.insert(0, 'request_timestamp', datetime.utcnow())"
   ]
  },
  {
   "cell_type": "code",
   "execution_count": 12,
   "metadata": {},
   "outputs": [
    {
     "data": {
      "text/plain": [
       "'2021-11-26T23:48:12'"
      ]
     },
     "execution_count": 12,
     "metadata": {},
     "output_type": "execute_result"
    }
   ],
   "source": [
    "api_index=3\n",
    "folderpath, datename, engine, db_cols, last_update_date = initialize(folder_index=api_index)\n",
    "last_update_date"
   ]
  },
  {
   "cell_type": "code",
   "execution_count": 19,
   "metadata": {},
   "outputs": [
    {
     "name": "stdout",
     "output_type": "stream",
     "text": [
      "('2021-11-26T23:00:31',)\n"
     ]
    }
   ],
   "source": [
    "\n",
    "db = os.path.join(config_bestbuy.path, 'bestbuy.db')\n",
    "conn_string = f'sqlite:///{db}'\n",
    "engine = create_engine(conn_string)\n",
    "\n",
    "with engine.connect() as cnx:\n",
    "    # df.to_sql(name='products', con=cnx, if_exists='replace', index=False)\n",
    "    df_test = pd.read_sql(sql='select max(itemUpdateDate) from products', con=cnx)\n",
    "    rs = cnx.execute(\"select max(itemUpdateDate) from products\")\n",
    "    for row in rs:\n",
    "        print(row)\n"
   ]
  },
  {
   "cell_type": "code",
   "execution_count": 20,
   "metadata": {},
   "outputs": [
    {
     "data": {
      "text/plain": [
       "'2021-11-26T23:00:31'"
      ]
     },
     "execution_count": 20,
     "metadata": {},
     "output_type": "execute_result"
    }
   ],
   "source": [
    "df_test.iloc[0, 0]"
   ]
  },
  {
   "cell_type": "code",
   "execution_count": 231,
   "metadata": {},
   "outputs": [
    {
     "data": {
      "text/plain": [
       "172800.0"
      ]
     },
     "execution_count": 231,
     "metadata": {},
     "output_type": "execute_result"
    }
   ],
   "source": [
    "today = datetime.utcnow().date()\n",
    "n_days = datetime.utcnow().date() - timedelta(days=2)\n",
    "n_hours = (today-n_days)/timedelta(seconds=1)\n",
    "n_hours"
   ]
  },
  {
   "cell_type": "code",
   "execution_count": null,
   "metadata": {},
   "outputs": [],
   "source": [
    "['nextCursorMark', 'total', 'totalPages', 'queryTime', 'totalTime', 'canonicalUrl', 'sku', 'name', 'type', 'startDate', 'new', 'activeUpdateDate', 'active', 'regularPrice', 'salePrice', 'clearance', 'onSale', 'categoryPath', 'customerReviewCount', 'customerReviewAverage', 'priceUpdateDate', 'itemUpdateDate', 'class', 'classId', 'subclass', 'subclassId', 'department', 'departmentId', 'images', 'image', 'color'] \n"
   ]
  }
 ],
 "metadata": {
  "interpreter": {
   "hash": "3410afedb74081d81603511028deadddc25ba0f01c14e0cb891e2c2473f81884"
  },
  "kernelspec": {
   "display_name": "Python 3.8.5 64-bit",
   "language": "python",
   "name": "python3"
  },
  "language_info": {
   "codemirror_mode": {
    "name": "ipython",
    "version": 3
   },
   "file_extension": ".py",
   "mimetype": "text/x-python",
   "name": "python",
   "nbconvert_exporter": "python",
   "pygments_lexer": "ipython3",
   "version": "3.8.5"
  },
  "orig_nbformat": 4
 },
 "nbformat": 4,
 "nbformat_minor": 2
}
