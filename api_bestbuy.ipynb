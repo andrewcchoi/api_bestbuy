{
 "cells": [
  {
   "cell_type": "code",
   "execution_count": 8,
   "metadata": {},
   "outputs": [],
   "source": [
    "import os\n",
    "import json\n",
    "import requests\n",
    "\n",
    "from time import perf_counter, sleep\n",
    "from datetime import datetime, timedelta\n",
    "\n",
    "import config_bestbuy"
   ]
  },
  {
   "cell_type": "code",
   "execution_count": 19,
   "metadata": {},
   "outputs": [],
   "source": [
    "def initialize(folder_index=0):\n",
    "\n",
    "    folders = ['products', 'categories', 'stores', 'products_update']\n",
    "    datename = datetime.utcnow().strftime('%Y%m%d')\n",
    "    path = config_bestbuy.path\n",
    "    foldername = f'best_buy_{datename}\\\\{folders[folder_index]}'\n",
    "    folderpath = os.path.join(path, foldername)\n",
    "\n",
    "    if not os.path.exists(folderpath):\n",
    "        os.makedirs(folderpath)\n",
    "\n",
    "    return folderpath, datename\n",
    "\n",
    "\n",
    "def api_bestbuy(cursorMark=\"*\", api_index=0, page_size=100):\n",
    "    key = config_bestbuy.key_bestbuy\n",
    "    yesterday = datetime.utcnow().date() - timedelta(days=1)\n",
    "    apis = ['products', 'categories', 'stores', f'products(itemUpdateDate>{yesterday}&active=*)']\n",
    "    url = f\"https://api.bestbuy.com/v1/{apis[api_index]}\"\n",
    "    payload = {\n",
    "        'apiKey': key, \n",
    "        'pageSize': page_size, \n",
    "        'format': 'json', \n",
    "        'show': 'all',\n",
    "        'cursorMark': cursorMark\n",
    "        }\n",
    "    r = requests.get(f'{url}', params=payload)\n",
    "\n",
    "    return r\n",
    "\n",
    "\n",
    "def main(api_index=0, page_size=100):\n",
    "\n",
    "    folderpath, datename = initialize(folder_index=api_index)\n",
    "    nextcursorMark = \"*\"\n",
    "    pg = 0\n",
    "    pages = api_bestbuy(cursorMark=nextcursorMark, api_index=api_index, page_size=page_size).json()['totalPages']\n",
    "    print(f'{pages=}')\n",
    "    sleep(1)\n",
    "    t1 = perf_counter()\n",
    "\n",
    "    while True:\n",
    "        print(f'{pg=}', f'{nextcursorMark=}', f'{t1=}', f'{perf_counter()-t1=}', sep=' | ')\n",
    "\n",
    "        r = api_bestbuy(cursorMark=nextcursorMark, api_index=api_index, page_size=page_size)\n",
    "\n",
    "        if r.status_code == 200:\n",
    "            try:\n",
    "                if len(r.json()['products']) == 0:\n",
    "                    print(\"fin\")\n",
    "                    break      \n",
    "\n",
    "                nextcursorMark = r.json()['nextCursorMark']\n",
    "                pg += 1\n",
    "            \n",
    "            except (NameError, ValueError, KeyError) as e:\n",
    "                print(f'{e=}')\n",
    "                t1 = perf_counter()\n",
    "\n",
    "            else:\n",
    "                pass\n",
    "\n",
    "            finally:\n",
    "                pass\n",
    "\n",
    "            filename = f'best_buy_{datename}_{pg:05}.json'\n",
    "            filepath = os.path.join(folderpath, filename)\n",
    "\n",
    "            with open(filepath, 'w') as f:\n",
    "                json.dump(r.json(), f, indent=4)\n",
    "            print(f'saved to {filepath}')\n",
    "        \n",
    "        timer = perf_counter()-t1\n",
    "        if (pg)%5==0:\n",
    "            if timer<1:\n",
    "                sleep(1-timer)\n",
    "            t1 = perf_counter()\n",
    "    \n"
   ]
  },
  {
   "cell_type": "code",
   "execution_count": null,
   "metadata": {},
   "outputs": [],
   "source": [
    "if __name__ == '__main__':\n",
    "\n",
    "    # api_index = {0: 'products', 1: 'categories', 2: 'stores', 3: 'products(itemUpdateDate>today&active=*)'}\n",
    "    main(api_index=3, page_size=100)\n"
   ]
  },
  {
   "cell_type": "markdown",
   "metadata": {},
   "source": [
    "Tip: To query for updates or deltas since you last walked through the result set you can use the itemUpdateDate attribute. To ensure that your query results include changes to a product’s active/inactive status, add active=* to your query parameters. \n",
    "For example: .../v1/products(itemUpdateDate>2017-02-06T16:00:00&active=*)?format=json&pageSize=100&cursorMark=*&apiKey=YOUR_API_KEY\n",
    "For example: .../v1/products(itemUpdateDate>today&active=*)?format=json&pageSize=100&cursorMark=*&apiKey=YOUR_API_KEY\n",
    "\"https://api.bestbuy.com/v1/products(releaseDate>today)?format=json&show=sku,name,salePrice&apiKey=YourAPIKey\""
   ]
  }
 ],
 "metadata": {
  "interpreter": {
   "hash": "3410afedb74081d81603511028deadddc25ba0f01c14e0cb891e2c2473f81884"
  },
  "kernelspec": {
   "display_name": "Python 3.8.5 64-bit",
   "language": "python",
   "name": "python3"
  },
  "language_info": {
   "codemirror_mode": {
    "name": "ipython",
    "version": 3
   },
   "file_extension": ".py",
   "mimetype": "text/x-python",
   "name": "python",
   "nbconvert_exporter": "python",
   "pygments_lexer": "ipython3",
   "version": "3.8.5"
  },
  "orig_nbformat": 4
 },
 "nbformat": 4,
 "nbformat_minor": 2
}
