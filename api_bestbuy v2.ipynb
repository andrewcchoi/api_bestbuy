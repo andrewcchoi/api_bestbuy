{
 "cells": [
  {
   "cell_type": "code",
   "execution_count": 1,
   "metadata": {},
   "outputs": [],
   "source": [
    "import os\n",
    "import json\n",
    "import requests\n",
    "import pandas as pd\n",
    "\n",
    "from sqlalchemy import create_engine\n",
    "from time import perf_counter, sleep\n",
    "from datetime import datetime, timedelta\n",
    "\n",
    "import config_bestbuy"
   ]
  },
  {
   "cell_type": "code",
   "execution_count": 2,
   "metadata": {},
   "outputs": [],
   "source": [
    "def initialize(folder_index=0):\n",
    "\n",
    "    folders = ['products', 'categories', 'stores', 'products_update']\n",
    "    datename = datetime.utcnow().strftime('%Y%m%d')\n",
    "    path = config_bestbuy.path\n",
    "    foldername = f'best_buy_{datename}\\\\{folders[folder_index]}'\n",
    "    folderpath = os.path.join(path, foldername)\n",
    "\n",
    "    if not os.path.exists(folderpath):\n",
    "        os.makedirs(folderpath)\n",
    "\n",
    "    db = os.path.join(config_bestbuy.path, 'bestbuy.db')\n",
    "    conn_string = f'sqlite:///{db}'\n",
    "    engine = create_engine(conn_string)\n",
    "\n",
    "    with engine.connect() as cnx:\n",
    "        try:\n",
    "            sel_stmt = \"SELECT * FROM products LIMIT 0\"\n",
    "            df_db = pd.read_sql(sql=sel_stmt, con=cnx)\n",
    "            db_cols = df_db.columns.tolist()\n",
    "        except Exception as e:\n",
    "            db_cols = []\n",
    "            \n",
    "    return folderpath, datename, engine, db_cols\n",
    "\n",
    "\n",
    "def api_bestbuy(cursorMark=\"*\", api_index=0, page_size=100, days=1):\n",
    "    key = config_bestbuy.key_bestbuy\n",
    "    yesterday = datetime.utcnow().date() - timedelta(days=days)\n",
    "    apis = ['products', 'categories', 'stores', f'products(itemUpdateDate>{yesterday}&active=*)']\n",
    "    url = f\"https://api.bestbuy.com/v1/{apis[api_index]}\"\n",
    "    payload = {\n",
    "        'apiKey': key, \n",
    "        'pageSize': page_size, \n",
    "        'format': 'json', \n",
    "        'show': 'all',\n",
    "        'cursorMark': cursorMark\n",
    "        }\n",
    "    r = requests.get(f'{url}', params=payload)\n",
    "\n",
    "    return r\n",
    "\n",
    "\n",
    "def insert_db(r, engine, db_cols):\n",
    "\n",
    "    with engine.connect() as cnx:\n",
    "        # sel_stmt = \"SELECT * FROM products LIMIT 0\"\n",
    "        # df_db = pd.read_sql(sql=sel_stmt, con=cnx)\n",
    "        # db_cols = df_db.columns.tolist()\n",
    "        cols = ['nextCursorMark', 'total', 'totalPages', 'queryTime', 'totalTime', 'canonicalUrl', 'sku', 'name', 'type', 'startDate', 'new', 'activeUpdateDate', 'active', 'regularPrice', 'salePrice', 'clearance', 'onSale', 'categoryPath', 'customerReviewCount', 'customerReviewAverage', 'priceUpdateDate', 'itemUpdateDate', 'class', 'classId', 'subclass', 'subclassId', 'department', 'departmentId', 'images', 'image', 'color']\n",
    "        io = r.json()\n",
    "        df_meta = pd.DataFrame(io)\n",
    "        df_meta = df_meta.iloc[:, :-1]\n",
    "        df_products = pd.DataFrame(io['products'])\n",
    "        df = df_meta.merge(df_products, how='inner', left_index=True, right_index=True)\n",
    "        df = df.loc[:, [cols]]\n",
    "        df.insert(0, 'request_timestamp', datetime.utcnow())\n",
    "\n",
    "        for col in df.columns.tolist():\n",
    "            if df[col].dtype == 'object' or df[col].dtype == 'int64':\n",
    "                df[col] = df[col].astype('str')\n",
    "\n",
    "            datatype = df[col].dtype\n",
    "            if datatype == 'bool':\n",
    "                datatype = 'INTEGER'\n",
    "            if datatype == 'float64':\n",
    "                datatype = 'REAL'\n",
    "            elif datatype == 'datetime64[ns]':\n",
    "                datatype = 'NUMERIC'\n",
    "            else: # int64, object, TEXT\n",
    "                datatype = 'TEXT'\n",
    "            \n",
    "            if col not in db_cols:\n",
    "                alter_stmt = f\"\"\"\n",
    "                ALTER TABLE products\n",
    "                ADD {col} {datatype};\n",
    "                \"\"\"\n",
    "                try:\n",
    "                    cnx.execute(alter_stmt)\n",
    "                except Exception as e:\n",
    "                    # print(f'error: {e}\\n{col} already exists')\n",
    "                    print(f'error: {col} already exists')\n",
    "                finally:\n",
    "                    db_cols.append(col)\n",
    "                \n",
    "        df.to_sql(name='products', con=cnx, if_exists='append', index=False)\n",
    "\n",
    "\n",
    "def main(api_index=0, page_size=100, days=1, db=False):\n",
    "\n",
    "    t0 = perf_counter()\n",
    "    folderpath, datename, engine, db_cols = initialize(folder_index=api_index)\n",
    "    nextcursorMark = \"*\"\n",
    "    pg = 0\n",
    "    pages = api_bestbuy(cursorMark=nextcursorMark, api_index=api_index, page_size=page_size, days=days).json()['totalPages']\n",
    "    print(f'{pages=}')\n",
    "    sleep(1)\n",
    "    t1 = perf_counter()\n",
    "\n",
    "    while True:\n",
    "        print(f'{pg=}', f'{nextcursorMark=}', f'{t1=}', f'{perf_counter()-t1=}', sep=' | ')\n",
    "\n",
    "        r = api_bestbuy(cursorMark=nextcursorMark, api_index=api_index, page_size=page_size, days=days)\n",
    "\n",
    "        if r.status_code == 200:\n",
    "            try:\n",
    "                if len(r.json()['products']) == 0:\n",
    "                    print(f\"fin: {(perf_counter()-t0)=}\")\n",
    "                    break      \n",
    "\n",
    "                nextcursorMark = r.json()['nextCursorMark']\n",
    "                pg += 1\n",
    "            \n",
    "            except (NameError, ValueError, KeyError) as e:\n",
    "                print(f'{e=}')\n",
    "                t1 = perf_counter()\n",
    "\n",
    "            else:\n",
    "                pass\n",
    "\n",
    "            finally:\n",
    "                pass\n",
    "            \n",
    "            filename = f'best_buy_{datename}_{pg:05}.json'\n",
    "            filepath = os.path.join(folderpath, filename)\n",
    "\n",
    "            with open(filepath, 'w') as f:\n",
    "                json.dump(r.json(), f, indent=4)\n",
    "\n",
    "            if db:\n",
    "                insert_db(r=r, engine=engine, db_cols=db_cols)\n",
    "\n",
    "        timer = perf_counter()-t1\n",
    "        if (pg)%5==0:\n",
    "            if timer<1:\n",
    "                sleep(1-timer)\n",
    "            t1 = perf_counter()\n",
    "    \n"
   ]
  },
  {
   "cell_type": "code",
   "execution_count": null,
   "metadata": {},
   "outputs": [],
   "source": [
    "if __name__ == '__main__':\n",
    "\n",
    "    # api_index = {0: 'products', 1: 'categories', 2: 'stores', 3: 'products(itemUpdateDate>today&active=*)'}\n",
    "    main(api_index=0, page_size=100, days=2, db=True)\n"
   ]
  },
  {
   "cell_type": "markdown",
   "metadata": {},
   "source": [
    "Tip: To query for updates or deltas since you last walked through the result set you can use the itemUpdateDate attribute. To ensure that your query results include changes to a product’s active/inactive status, add active=* to your query parameters. \n",
    "For example: .../v1/products(itemUpdateDate>2017-02-06T16:00:00&active=*)?format=json&pageSize=100&cursorMark=*&apiKey=YOUR_API_KEY\n",
    "For example: .../v1/products(itemUpdateDate>today&active=*)?format=json&pageSize=100&cursorMark=*&apiKey=YOUR_API_KEY\n",
    "\"https://api.bestbuy.com/v1/products(releaseDate>today)?format=json&show=sku,name,salePrice&apiKey=YourAPIKey\""
   ]
  },
  {
   "cell_type": "code",
   "execution_count": null,
   "metadata": {},
   "outputs": [],
   "source": [
    "bb_root = config_bestbuy.path\n",
    "bb_dir = 'best_buy_20211123'\n",
    "bb_path = os.path.join(bb_root, bb_dir)\n",
    "\n",
    "bb_filename = 'best_buy_20211123_00001 - Copy.json'\n",
    "bb_file_path = os.path.join(f'{bb_path}\\\\products', bb_filename)\n",
    "\n",
    "with open(bb_file_path, 'r') as f:\n",
    "    io = json.load(f)\n"
   ]
  },
  {
   "cell_type": "code",
   "execution_count": 213,
   "metadata": {},
   "outputs": [],
   "source": [
    "nextcursorMark = \"*\"\n",
    "api_index = 3\n",
    "page_size = 100\n",
    "days = 2\n",
    "\n",
    "r = api_bestbuy(cursorMark=nextcursorMark, api_index=api_index, page_size=page_size, days=days)\n",
    "io = r.json()\n"
   ]
  },
  {
   "cell_type": "code",
   "execution_count": 237,
   "metadata": {},
   "outputs": [
    {
     "name": "stdout",
     "output_type": "stream",
     "text": [
      "('2021-11-26T03:43:37',)\n"
     ]
    }
   ],
   "source": [
    "\n",
    "db = os.path.join(config_bestbuy.path, 'bestbuy.db')\n",
    "conn_string = f'sqlite:///{db}'\n",
    "engine = create_engine(conn_string)\n",
    "\n",
    "with engine.connect() as cnx:\n",
    "    # df.to_sql(name='products', con=cnx, if_exists='replace', index=False)\n",
    "    \n",
    "    rs = cnx.execute(\"select max(itemUpdateDate) from products\")\n",
    "    for row in rs:\n",
    "        print(row)\n"
   ]
  },
  {
   "cell_type": "code",
   "execution_count": 231,
   "metadata": {},
   "outputs": [
    {
     "data": {
      "text/plain": [
       "172800.0"
      ]
     },
     "execution_count": 231,
     "metadata": {},
     "output_type": "execute_result"
    }
   ],
   "source": [
    "today = datetime.utcnow().date()\n",
    "n_days = datetime.utcnow().date() - timedelta(days=2)\n",
    "n_hours = (today-n_days)/timedelta(seconds=1)\n",
    "n_hours"
   ]
  },
  {
   "cell_type": "code",
   "execution_count": null,
   "metadata": {},
   "outputs": [],
   "source": [
    "['nextCursorMark', 'total', 'totalPages', 'queryTime', 'totalTime', 'canonicalUrl', 'sku', 'name', 'type', 'startDate', 'new', 'activeUpdateDate', 'active', 'regularPrice', 'salePrice', 'clearance', 'onSale', 'categoryPath', 'customerReviewCount', 'customerReviewAverage', 'priceUpdateDate', 'itemUpdateDate', 'class', 'classId', 'subclass', 'subclassId', 'department', 'departmentId', 'images', 'image', 'color'] \n"
   ]
  }
 ],
 "metadata": {
  "interpreter": {
   "hash": "3410afedb74081d81603511028deadddc25ba0f01c14e0cb891e2c2473f81884"
  },
  "kernelspec": {
   "display_name": "Python 3.8.5 64-bit",
   "language": "python",
   "name": "python3"
  },
  "language_info": {
   "codemirror_mode": {
    "name": "ipython",
    "version": 3
   },
   "file_extension": ".py",
   "mimetype": "text/x-python",
   "name": "python",
   "nbconvert_exporter": "python",
   "pygments_lexer": "ipython3",
   "version": "3.8.5"
  },
  "orig_nbformat": 4
 },
 "nbformat": 4,
 "nbformat_minor": 2
}
